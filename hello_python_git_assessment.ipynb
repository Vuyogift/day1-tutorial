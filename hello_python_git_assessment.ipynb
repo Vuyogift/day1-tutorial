{
  "cells": [
    {
      "cell_type": "markdown",
      "metadata": {
        "id": "nVHq4fyhiwZM"
      },
      "source": [
        "# Tutorial: Hello Bash and Python\n",
        "\n",
        "In this tutorial we will familiarise ourselves with bash and python, and Notebooks (inadvertantly). Please load this notebook in `colab.research.google.com` if you do not have a local instance of JupyterHub/JupyterLab running.\n",
        "\n",
        "\n",
        "Submission:\n",
        "\n",
        "The submission for this tutorial requires a submission on Git, as well as one on SUNLearn.\n",
        "\n",
        "\n"
      ]
    },
    {
      "cell_type": "code",
      "execution_count": 2,
      "metadata": {
        "id": "jFITJ2HiiwZf"
      },
      "outputs": [],
      "source": [
        "import pandas as pd"
      ]
    },
    {
      "cell_type": "markdown",
      "metadata": {
        "id": "s7i9_g_piwZi"
      },
      "source": [
        "## Question 1: Bash\n",
        "\n",
        "Retrieve data and interogate it with bash before using python tooling. This is useful as you may struggle with type or malformed files and a quick interogation may reveal those issues.\n"
      ]
    },
    {
      "cell_type": "markdown",
      "metadata": {
        "id": "ba-6nIN-iwZl"
      },
      "source": [
        "### Question 1.1\n",
        "\n",
        "Run the bash command `wget` to retrieve a file located at `https://storage.googleapis.com/bdt-beam/users_v.csv` [1]"
      ]
    },
    {
      "cell_type": "code",
      "execution_count": 1,
      "metadata": {
        "colab": {
          "base_uri": "https://localhost:8080/"
        },
        "id": "F84AJvX-iwZn",
        "outputId": "c4d2a8a1-679d-430c-8772-a150d9538966"
      },
      "outputs": [
        {
          "output_type": "stream",
          "name": "stdout",
          "text": [
            "--2024-09-11 15:44:47--  https://storage.googleapis.com/bdt-beam/users_v.csv\n",
            "Resolving storage.googleapis.com (storage.googleapis.com)... 172.217.164.27, 172.217.0.91, 172.217.12.27, ...\n",
            "Connecting to storage.googleapis.com (storage.googleapis.com)|172.217.164.27|:443... connected.\n",
            "HTTP request sent, awaiting response... 200 OK\n",
            "Length: 143675 (140K) [text/csv]\n",
            "Saving to: ‘users_v.csv’\n",
            "\n",
            "users_v.csv         100%[===================>] 140.31K   416KB/s    in 0.3s    \n",
            "\n",
            "2024-09-11 15:44:48 (416 KB/s) - ‘users_v.csv’ saved [143675/143675]\n",
            "\n"
          ]
        }
      ],
      "source": [
        "! wget https://storage.googleapis.com/bdt-beam/users_v.csv"
      ]
    },
    {
      "cell_type": "markdown",
      "metadata": {
        "id": "kBQrKQpniwZo"
      },
      "source": [
        "### Question 1.2\n",
        "\n",
        "Use a bash command to view the top ten elements of the file (to confirm that things are as you expect) [1]"
      ]
    },
    {
      "cell_type": "code",
      "execution_count": 3,
      "metadata": {
        "colab": {
          "base_uri": "https://localhost:8080/"
        },
        "id": "1l7jVI9DiwZp",
        "outputId": "3e4bef1d-405c-4fae-c32a-ac8f2a7d46a0"
      },
      "outputs": [
        {
          "output_type": "stream",
          "name": "stdout",
          "text": [
            "user_id,name,gender,age,address,date_joined\n",
            "1,Anthony Wolf,male,73,New Rachelburgh-VA-49583,2019/03/13\n",
            "2,James Armstrong,male,56,North Jillianfort-UT-86454,2020/11/06\n",
            "3,Cody Shaw,male,75,North Anne-SC-53799,2004/05/29\n",
            "4,Sierra Hamilton,female,76,New Angelafurt-ME-46190,2005/08/26\n",
            "5,Chase Davis,male,31,South Bethmouth-WI-18562,2018/04/30\n",
            "6,Sierra Andrews,female,21,Ryanville-MI-69690,2007/05/25\n",
            "7,Ann Stone,female,41,Smithmouth-SD-17340,2005/01/05\n",
            "8,Karen Santos,female,34,Mariaville-AK-29888,2003/12/12\n",
            "9,Ronald Meyer,male,41,North Cherylhaven-NJ-04197,2015/11/14\n"
          ]
        }
      ],
      "source": [
        "! head -n 10 users_v.csv"
      ]
    },
    {
      "cell_type": "markdown",
      "metadata": {
        "id": "ED6KI5I8iwZq"
      },
      "source": [
        "### Question 1.3\n",
        "\n",
        "Use a bash command to determine the number of rows in the file [1]"
      ]
    },
    {
      "cell_type": "code",
      "execution_count": 4,
      "metadata": {
        "colab": {
          "base_uri": "https://localhost:8080/"
        },
        "id": "CIlooMfhiwZq",
        "outputId": "47e300cb-0830-45c2-f2d4-87cdac83da03"
      },
      "outputs": [
        {
          "output_type": "stream",
          "name": "stdout",
          "text": [
            "2358 users_v.csv\n"
          ]
        }
      ],
      "source": [
        "! wc -l users_v.csv"
      ]
    },
    {
      "cell_type": "markdown",
      "metadata": {
        "id": "R6W6RP9jiwZr"
      },
      "source": [
        "### Question 1.4\n",
        "\n",
        "Suppose the file is too large for initial exploration, let's take a quick sample so that we can continue working to see what is in the data set. Loading it into Pandas at this point will mean that we are using all that memory in any case, so let's sample it before we load it.\n",
        "\n",
        "Take a random sample of the file (limited the result to 1000 lines) and create another file called `users_sample.csv`, using only bash commands [3]\n",
        "\n",
        "Hint: redirect a stream into a the output file."
      ]
    },
    {
      "cell_type": "code",
      "execution_count": 5,
      "metadata": {
        "id": "y5EDReVNiwZs"
      },
      "outputs": [],
      "source": [
        "! shuf -n 1000 users_v.csv > users_sample.csv"
      ]
    },
    {
      "cell_type": "markdown",
      "metadata": {
        "id": "BjgWVqUWiwZs"
      },
      "source": [
        "### Question 1.5\n",
        "\n",
        "* Sort your file by ascending `user_id`s [1]\n",
        "* Overwrite the current `users_sample.csv` with the ordered content [1]\n",
        "* Print the last ten lines of this file [1]"
      ]
    },
    {
      "cell_type": "markdown",
      "metadata": {
        "id": "a8sr8-fAIN5I"
      },
      "source": []
    },
    {
      "cell_type": "code",
      "execution_count": 6,
      "metadata": {
        "colab": {
          "base_uri": "https://localhost:8080/"
        },
        "id": "fIR034oEiwZt",
        "outputId": "8dc31751-6005-4b35-ff22-4738f000670c"
      },
      "outputs": [
        {
          "output_type": "stream",
          "name": "stdout",
          "text": [
            "1137,Theresa Brown,female,45,West Kimberly-CT-26809,2010/11/29\n",
            "1540,Alexander Cooper,male,42,Bennettport-MN-38411,2002/06/20\n",
            "2261,Michael Phillips,male,59,Matthewmouth-NM-85760,2013/04/23\n",
            "1934,Brian Christensen,male,60,Port Melissatown-NY-11632,2021/03/19\n",
            "2204,Amy Herring,female,79,North Cynthiaborough-WV-41871,2012/10/16\n",
            "1738,Michelle Rich,female,70,New Lisafurt-SD-85899,2008/09/05\n",
            "370,Yolanda Coleman,female,35,Port Chelseaton-TN-95413,2020/02/28\n",
            "994,Kristi Perry,female,64,Elizabethmouth-NV-66181,2021/03/18\n",
            "1845,Stephanie Woodward DVM,female,34,East James-NJ-87013,2015/02/05\n",
            "1312,Jo Mccoy,female,21,Mcdowellfort-AR-79609,2003/06/06\n"
          ]
        }
      ],
      "source": [
        "! sort -t, -k1,1 users_sample.csv -o users_sample.csv | tail -n 10 users_sample.csv"
      ]
    },
    {
      "cell_type": "markdown",
      "metadata": {
        "id": "goZ-EVIFiwZt"
      },
      "source": [
        "## Question 2: Python\n",
        "\n",
        "Perform analysis with Python"
      ]
    },
    {
      "cell_type": "markdown",
      "metadata": {
        "id": "GPwWbHRniwZt"
      },
      "source": [
        "### Question 2.1\n",
        "\n",
        "Load the original `users_v.csv` into a Pandas dataframe [1]"
      ]
    },
    {
      "cell_type": "code",
      "execution_count": 7,
      "metadata": {
        "id": "o5H_jRMoiwZu"
      },
      "outputs": [],
      "source": [
        "df = pd.read_csv(\"users_v.csv\")"
      ]
    },
    {
      "cell_type": "markdown",
      "metadata": {
        "id": "6EV_z69kiwZu"
      },
      "source": [
        "### Question 2.2\n",
        "\n",
        "Display/print the top ten lines of the dataframe [1]\n",
        "\n"
      ]
    },
    {
      "cell_type": "code",
      "execution_count": 8,
      "metadata": {
        "colab": {
          "base_uri": "https://localhost:8080/"
        },
        "id": "AbFAF48RiwZu",
        "outputId": "178c3ff5-a4c8-4c7e-82b2-4a8df03ebc11"
      },
      "outputs": [
        {
          "output_type": "stream",
          "name": "stdout",
          "text": [
            "   user_id             name  gender  age                     address  \\\n",
            "0        1     Anthony Wolf    male   73    New Rachelburgh-VA-49583   \n",
            "1        2  James Armstrong    male   56  North Jillianfort-UT-86454   \n",
            "2        3        Cody Shaw    male   75         North Anne-SC-53799   \n",
            "3        4  Sierra Hamilton  female   76     New Angelafurt-ME-46190   \n",
            "4        5      Chase Davis    male   31    South Bethmouth-WI-18562   \n",
            "5        6   Sierra Andrews  female   21          Ryanville-MI-69690   \n",
            "6        7        Ann Stone  female   41         Smithmouth-SD-17340   \n",
            "7        8     Karen Santos  female   34         Mariaville-AK-29888   \n",
            "8        9     Ronald Meyer    male   41  North Cherylhaven-NJ-04197   \n",
            "9       10    Steven Rivera    male   43          Wayneside-VT-29040   \n",
            "\n",
            "  date_joined  \n",
            "0  2019/03/13  \n",
            "1  2020/11/06  \n",
            "2  2004/05/29  \n",
            "3  2005/08/26  \n",
            "4  2018/04/30  \n",
            "5  2007/05/25  \n",
            "6  2005/01/05  \n",
            "7  2003/12/12  \n",
            "8  2015/11/14  \n",
            "9  2003/05/15  \n"
          ]
        }
      ],
      "source": [
        "print(df.head(10))"
      ]
    },
    {
      "cell_type": "markdown",
      "metadata": {
        "id": "wL5EXD9ziwZv"
      },
      "source": [
        "### Question 2.3\n",
        "\n",
        "Find the age of the oldest and youngest person in the dataset [1]\n",
        "\n",
        "Hint: you can use the `print(..., ...)` function to display the two values if you construct it as two arguments"
      ]
    },
    {
      "cell_type": "code",
      "execution_count": 9,
      "metadata": {
        "colab": {
          "base_uri": "https://localhost:8080/"
        },
        "id": "qY2uQKkOiwZw",
        "outputId": "a18521b4-d808-46d3-ed52-bde2c875a983"
      },
      "outputs": [
        {
          "output_type": "stream",
          "name": "stdout",
          "text": [
            "80 18\n"
          ]
        }
      ],
      "source": [
        "print(df.age.max(), df.age.min())"
      ]
    },
    {
      "cell_type": "markdown",
      "metadata": {
        "id": "RI6b6qOZiwZw"
      },
      "source": [
        "### Question 2.4\n",
        "\n",
        "Draw descriptive statistics (one-liner) for the `age` column - these statistics should include `count`, `mean`, and `std` [1]\n",
        "\n",
        "Hint: this command has a parallel in R"
      ]
    },
    {
      "cell_type": "code",
      "execution_count": 10,
      "metadata": {
        "colab": {
          "base_uri": "https://localhost:8080/"
        },
        "id": "jzimEGCfiwZx",
        "outputId": "2a9288ce-b56e-430e-a248-d8054c9edccc"
      },
      "outputs": [
        {
          "output_type": "stream",
          "name": "stdout",
          "text": [
            "count    2357.000000\n",
            "mean       49.054731\n",
            "std        18.206348\n",
            "min        18.000000\n",
            "25%        33.000000\n",
            "50%        49.000000\n",
            "75%        65.000000\n",
            "max        80.000000\n",
            "Name: age, dtype: float64\n"
          ]
        }
      ],
      "source": [
        "print(df.age.describe())"
      ]
    },
    {
      "cell_type": "markdown",
      "metadata": {
        "id": "G5hHELQMiwZx"
      },
      "source": [
        "### Question 2.5\n",
        "\n",
        "* Using anonymous functions (`lambda`), create a `surname` column from the name column (you may assume that the last word without a space is the surname) [2]\n",
        "* Display the last 10 lines of your dataframe [1]\n"
      ]
    },
    {
      "cell_type": "code",
      "execution_count": 11,
      "metadata": {
        "colab": {
          "base_uri": "https://localhost:8080/"
        },
        "id": "tvIZyGW_iwZx",
        "outputId": "4dc8f075-34a0-4792-d1be-72973e659c5c"
      },
      "outputs": [
        {
          "output_type": "stream",
          "name": "stdout",
          "text": [
            "      user_id                 name  gender  age                    address  \\\n",
            "2347     2348     Victoria Edwards  female   68    Lake Jamesberg-NY-88824   \n",
            "2348     2349          Chris Ellis    male   46  Port Richardside-NY-77994   \n",
            "2349     2350       Kimberly Smith  female   19      East Anthony-GA-00646   \n",
            "2350     2351       William Nelson    male   67   Lake Parkerside-MN-06905   \n",
            "2351     2352          Nancy Clark  female   80        Jamesshire-AK-88437   \n",
            "2352     2353      Brittney Graham  female   40         Brownland-CO-71229   \n",
            "2353     2354      Allison Schmidt  female   43        Port Logan-MD-38588   \n",
            "2354     2355  Christopher Johnson    male   68   North Justinton-VA-32798   \n",
            "2355     2356           Mark Brown    male   67    New Kayleefurt-MA-82581   \n",
            "2356     2357      Steven Robinson    male   45         Mistytown-HI-31737   \n",
            "\n",
            "     date_joined   surname  \n",
            "2347  2001/09/03   Edwards  \n",
            "2348  2011/03/18     Ellis  \n",
            "2349  2021/06/20     Smith  \n",
            "2350  2005/12/21    Nelson  \n",
            "2351  2001/12/12     Clark  \n",
            "2352  2005/07/10    Graham  \n",
            "2353  2008/11/30   Schmidt  \n",
            "2354  2006/08/01   Johnson  \n",
            "2355  2013/11/16     Brown  \n",
            "2356  2015/03/21  Robinson  \n"
          ]
        }
      ],
      "source": [
        "df['surname'] = df.name.apply(lambda x: x.split()[-1])\n",
        "print(df.tail(10))"
      ]
    },
    {
      "cell_type": "markdown",
      "metadata": {
        "id": "cqjiZYyBiwZy"
      },
      "source": [
        "### Question 2.6\n",
        "\n",
        "* Convert `date_joined` to a pandas series of type `datetime`  [1]\n",
        "* Overwrite the original `date_joined` column with the result [1]"
      ]
    },
    {
      "cell_type": "code",
      "execution_count": 12,
      "metadata": {
        "colab": {
          "base_uri": "https://localhost:8080/",
          "height": 458
        },
        "collapsed": true,
        "id": "GKqSATrUiwZy",
        "outputId": "2ce1acb9-ca34-4170-e37d-78325b9b16c1"
      },
      "outputs": [
        {
          "output_type": "execute_result",
          "data": {
            "text/plain": [
              "0      2019-03-13\n",
              "1      2020-11-06\n",
              "2      2004-05-29\n",
              "3      2005-08-26\n",
              "4      2018-04-30\n",
              "          ...    \n",
              "2352   2005-07-10\n",
              "2353   2008-11-30\n",
              "2354   2006-08-01\n",
              "2355   2013-11-16\n",
              "2356   2015-03-21\n",
              "Name: date_joined, Length: 2357, dtype: datetime64[ns]"
            ],
            "text/html": [
              "<div>\n",
              "<style scoped>\n",
              "    .dataframe tbody tr th:only-of-type {\n",
              "        vertical-align: middle;\n",
              "    }\n",
              "\n",
              "    .dataframe tbody tr th {\n",
              "        vertical-align: top;\n",
              "    }\n",
              "\n",
              "    .dataframe thead th {\n",
              "        text-align: right;\n",
              "    }\n",
              "</style>\n",
              "<table border=\"1\" class=\"dataframe\">\n",
              "  <thead>\n",
              "    <tr style=\"text-align: right;\">\n",
              "      <th></th>\n",
              "      <th>date_joined</th>\n",
              "    </tr>\n",
              "  </thead>\n",
              "  <tbody>\n",
              "    <tr>\n",
              "      <th>0</th>\n",
              "      <td>2019-03-13</td>\n",
              "    </tr>\n",
              "    <tr>\n",
              "      <th>1</th>\n",
              "      <td>2020-11-06</td>\n",
              "    </tr>\n",
              "    <tr>\n",
              "      <th>2</th>\n",
              "      <td>2004-05-29</td>\n",
              "    </tr>\n",
              "    <tr>\n",
              "      <th>3</th>\n",
              "      <td>2005-08-26</td>\n",
              "    </tr>\n",
              "    <tr>\n",
              "      <th>4</th>\n",
              "      <td>2018-04-30</td>\n",
              "    </tr>\n",
              "    <tr>\n",
              "      <th>...</th>\n",
              "      <td>...</td>\n",
              "    </tr>\n",
              "    <tr>\n",
              "      <th>2352</th>\n",
              "      <td>2005-07-10</td>\n",
              "    </tr>\n",
              "    <tr>\n",
              "      <th>2353</th>\n",
              "      <td>2008-11-30</td>\n",
              "    </tr>\n",
              "    <tr>\n",
              "      <th>2354</th>\n",
              "      <td>2006-08-01</td>\n",
              "    </tr>\n",
              "    <tr>\n",
              "      <th>2355</th>\n",
              "      <td>2013-11-16</td>\n",
              "    </tr>\n",
              "    <tr>\n",
              "      <th>2356</th>\n",
              "      <td>2015-03-21</td>\n",
              "    </tr>\n",
              "  </tbody>\n",
              "</table>\n",
              "<p>2357 rows × 1 columns</p>\n",
              "</div><br><label><b>dtype:</b> datetime64[ns]</label>"
            ]
          },
          "metadata": {},
          "execution_count": 12
        }
      ],
      "source": [
        "pd.to_datetime(df['date_joined'])"
      ]
    },
    {
      "cell_type": "code",
      "execution_count": 13,
      "metadata": {
        "id": "h7qP8NkHiwZy"
      },
      "outputs": [],
      "source": [
        "df['date_joined'] = pd.to_datetime(df['date_joined'])"
      ]
    },
    {
      "cell_type": "markdown",
      "metadata": {
        "id": "4O1bhcYGiwZy"
      },
      "source": [
        "## Question 3: Git\n",
        "\n",
        "Push your notebook to Git. If you don't have any Git tooling installed on your machines, download a preferred tool.\n",
        "\n",
        " * Create a repository (named `day1-tutorial`) on Gitlab (check your student email for sign-up/membership request to Gitlab) [1]\n",
        " * Push this notebook to that repository [1]"
      ]
    },
    {
      "cell_type": "code",
      "execution_count": 14,
      "metadata": {
        "colab": {
          "base_uri": "https://localhost:8080/"
        },
        "id": "Ylq9GOuriwZz",
        "outputId": "f23dc035-c482-4d66-baeb-7be0740c9fd9"
      },
      "outputs": [
        {
          "output_type": "stream",
          "name": "stdout",
          "text": [
            "fatal: pathspec 'hello-python-git-assessment.ipynb' did not match any files\n"
          ]
        }
      ],
      "source": [
        "!git config --global user.email \"24140368@sun.ac.za\"\n",
        "!git config --global user.name \"Vuyogift\"\n",
        "!git add hello-python-git-assessment.ipynb\n"
      ]
    },
    {
      "cell_type": "code",
      "source": [],
      "metadata": {
        "id": "BWGO54nWtmPr"
      },
      "execution_count": null,
      "outputs": []
    },
    {
      "cell_type": "markdown",
      "metadata": {
        "id": "THzqA-RJiwZz"
      },
      "source": [
        "## The End\n",
        "\n",
        "Now that it is a datetime, we can how many users signed up/registered."
      ]
    },
    {
      "cell_type": "code",
      "execution_count": 14,
      "metadata": {
        "id": "VFB3HT4riwZ0",
        "colab": {
          "base_uri": "https://localhost:8080/",
          "height": 488
        },
        "outputId": "1dd0ad32-4c68-4e84-9b3a-203759f96f53"
      },
      "outputs": [
        {
          "output_type": "execute_result",
          "data": {
            "text/plain": [
              "<Axes: xlabel='date_joined'>"
            ]
          },
          "metadata": {},
          "execution_count": 14
        },
        {
          "output_type": "display_data",
          "data": {
            "text/plain": [
              "<Figure size 640x480 with 1 Axes>"
            ],
            "image/png": "[encoded data removed]"
          },
          "metadata": {}
        }
      ],
      "source": [
        "import matplotlib\n",
        "\n",
        "%matplotlib inline\n",
        "\n",
        "df.user_id.groupby([df.date_joined.dt.year]).count().plot(kind=\"bar\")"
      ]
    },
    {
      "cell_type": "code",
      "execution_count": null,
      "metadata": {
        "id": "dW0jUZhdiwZ1"
      },
      "outputs": [],
      "source": []
    }
  ],
  "metadata": {
    "colab": {
      "provenance": []
    },
    "kernelspec": {
      "display_name": "Python 3 (ipykernel)",
      "language": "python",
      "name": "python3"
    },
    "language_info": {
      "codemirror_mode": {
        "name": "ipython",
        "version": 3
      },
      "file_extension": ".py",
      "mimetype": "text/x-python",
      "name": "python",
      "nbconvert_exporter": "python",
      "pygments_lexer": "ipython3",
      "version": "3.12.5"
    }
  },
  "nbformat": 4,
  "nbformat_minor": 0
}